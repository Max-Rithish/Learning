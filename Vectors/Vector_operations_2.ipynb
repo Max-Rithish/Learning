{
  "nbformat": 4,
  "nbformat_minor": 0,
  "metadata": {
    "colab": {
      "provenance": []
    },
    "kernelspec": {
      "name": "python3",
      "display_name": "Python 3"
    },
    "language_info": {
      "name": "python"
    }
  },
  "cells": [
    {
      "cell_type": "code",
      "execution_count": 3,
      "metadata": {
        "id": "O5_iYvXrrVqX"
      },
      "outputs": [],
      "source": [
        "import numpy as np"
      ]
    },
    {
      "cell_type": "markdown",
      "source": [
        "Dot product"
      ],
      "metadata": {
        "id": "-sWGPRVFraEK"
      }
    },
    {
      "cell_type": "code",
      "source": [
        "vector1 = np.array([1,4])\n",
        "vector2 =np.array([2,5])\n",
        "dot_prod = np.dot(vector1,vector2)\n",
        "print(dot_prod)"
      ],
      "metadata": {
        "colab": {
          "base_uri": "https://localhost:8080/"
        },
        "id": "Lj155j-UreL9",
        "outputId": "6a2ccbab-7d01-4150-9d70-b74fcd2c327f"
      },
      "execution_count": 4,
      "outputs": [
        {
          "output_type": "stream",
          "name": "stdout",
          "text": [
            "22\n"
          ]
        }
      ]
    },
    {
      "cell_type": "markdown",
      "source": [
        "Cross product"
      ],
      "metadata": {
        "id": "UyzYN9gKr-68"
      }
    },
    {
      "cell_type": "code",
      "source": [
        "vector1 = np.array([1,4])\n",
        "vector2 =np.array([2,5])\n",
        "cross_prod = np.cross(vector1,vector2)\n",
        "print(cross_prod)"
      ],
      "metadata": {
        "colab": {
          "base_uri": "https://localhost:8080/"
        },
        "id": "WBqyGuJCrxk_",
        "outputId": "62d61fe2-a5cd-4ca9-ecc9-12a078db7ee9"
      },
      "execution_count": 5,
      "outputs": [
        {
          "output_type": "stream",
          "name": "stdout",
          "text": [
            "-3\n"
          ]
        }
      ]
    },
    {
      "cell_type": "code",
      "source": [
        "vector1 = np.array([1,4,7])\n",
        "vector2 =np.array([2,5,8])\n",
        "cross_prod = np.cross(vector1,vector2)\n",
        "print(cross_prod)"
      ],
      "metadata": {
        "colab": {
          "base_uri": "https://localhost:8080/"
        },
        "id": "M1acF5wjsNrF",
        "outputId": "5f6c73ed-c122-4b0d-ace3-67c8176308d7"
      },
      "execution_count": 6,
      "outputs": [
        {
          "output_type": "stream",
          "name": "stdout",
          "text": [
            "[-3  6 -3]\n"
          ]
        }
      ]
    },
    {
      "cell_type": "markdown",
      "source": [
        "Projection of 'a' vector in 'v' vector"
      ],
      "metadata": {
        "id": "CCYrkkhMsy_o"
      }
    },
    {
      "cell_type": "code",
      "source": [
        "a = np.array([2,5])\n",
        "v= np.array([4,6])\n",
        "\n",
        "magnitude_of_v = np.sqrt(sum(v**2))\n",
        "projection_of_a_on_v = (np.dot(a,v)/magnitude_of_v**2)*v\n",
        "print(projection_of_a_on_v)"
      ],
      "metadata": {
        "colab": {
          "base_uri": "https://localhost:8080/"
        },
        "id": "gVYfIf6IsTXK",
        "outputId": "00dbaa25-15b8-468c-f36d-2240f74b1e5c"
      },
      "execution_count": 7,
      "outputs": [
        {
          "output_type": "stream",
          "name": "stdout",
          "text": [
            "[2.92307692 4.38461538]\n"
          ]
        }
      ]
    },
    {
      "cell_type": "code",
      "source": [
        "a = np.array([2,5,7])\n",
        "v= np.array([4,6,8])\n",
        "\n",
        "magnitude_of_v = np.sqrt(sum(v**2))\n",
        "projection_of_a_on_v = (np.dot(a,v)/magnitude_of_v**2)*v\n",
        "print(projection_of_a_on_v)"
      ],
      "metadata": {
        "colab": {
          "base_uri": "https://localhost:8080/"
        },
        "id": "M5S8P6fluaGN",
        "outputId": "0d673426-7eb8-4414-e71f-4a952d93c5c0"
      },
      "execution_count": 8,
      "outputs": [
        {
          "output_type": "stream",
          "name": "stdout",
          "text": [
            "[3.24137931 4.86206897 6.48275862]\n"
          ]
        }
      ]
    },
    {
      "cell_type": "code",
      "source": [],
      "metadata": {
        "id": "SDVh4nFuuhD5"
      },
      "execution_count": null,
      "outputs": []
    }
  ]
}