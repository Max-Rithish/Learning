{
  "nbformat": 4,
  "nbformat_minor": 0,
  "metadata": {
    "colab": {
      "provenance": []
    },
    "kernelspec": {
      "name": "python3",
      "display_name": "Python 3"
    },
    "language_info": {
      "name": "python"
    }
  },
  "cells": [
    {
      "cell_type": "code",
      "execution_count": 1,
      "metadata": {
        "id": "Ha-pOJL--IUO"
      },
      "outputs": [],
      "source": [
        "import numpy as np"
      ]
    },
    {
      "cell_type": "code",
      "source": [
        "matrix1=np.array([[2,4],[5,7]])\n",
        "print(matrix1)"
      ],
      "metadata": {
        "colab": {
          "base_uri": "https://localhost:8080/"
        },
        "id": "aP-uSRkT-QoA",
        "outputId": "b3fbbbb7-e39d-4229-e45a-13fde83aa363"
      },
      "execution_count": 2,
      "outputs": [
        {
          "output_type": "stream",
          "name": "stdout",
          "text": [
            "[[2 4]\n",
            " [5 7]]\n"
          ]
        }
      ]
    },
    {
      "cell_type": "code",
      "source": [
        "matrix1.shape"
      ],
      "metadata": {
        "colab": {
          "base_uri": "https://localhost:8080/"
        },
        "id": "Xha7Gl5w-ahz",
        "outputId": "9105f42a-76ca-432c-f696-b182a3490fda"
      },
      "execution_count": 3,
      "outputs": [
        {
          "output_type": "execute_result",
          "data": {
            "text/plain": [
              "(2, 2)"
            ]
          },
          "metadata": {},
          "execution_count": 3
        }
      ]
    },
    {
      "cell_type": "code",
      "source": [
        "matrix2 = np.array([[20,30],[40,50],[60,70]])\n",
        "print(matrix2)"
      ],
      "metadata": {
        "colab": {
          "base_uri": "https://localhost:8080/"
        },
        "id": "tbvOA1QH-dKG",
        "outputId": "9f718268-0ea2-410f-e592-17ef8c9b844f"
      },
      "execution_count": 4,
      "outputs": [
        {
          "output_type": "stream",
          "name": "stdout",
          "text": [
            "[[20 30]\n",
            " [40 50]\n",
            " [60 70]]\n"
          ]
        }
      ]
    },
    {
      "cell_type": "code",
      "source": [
        "matrix2.shape"
      ],
      "metadata": {
        "colab": {
          "base_uri": "https://localhost:8080/"
        },
        "id": "lgsNqJyq-qWE",
        "outputId": "69eeb3a8-44c4-462b-c6e5-c79057cd7654"
      },
      "execution_count": 6,
      "outputs": [
        {
          "output_type": "execute_result",
          "data": {
            "text/plain": [
              "(3, 2)"
            ]
          },
          "metadata": {},
          "execution_count": 6
        }
      ]
    },
    {
      "cell_type": "markdown",
      "source": [
        "Creating matrices with random values"
      ],
      "metadata": {
        "id": "XGQTUgpn-xUB"
      }
    },
    {
      "cell_type": "code",
      "source": [
        "random_matrix = np.random.randint(100,size=(3,3))\n",
        "print(random_matrix)"
      ],
      "metadata": {
        "colab": {
          "base_uri": "https://localhost:8080/"
        },
        "id": "ioe85CwB-sLQ",
        "outputId": "5d54c652-a538-492f-c93b-2c45e2062298"
      },
      "execution_count": 9,
      "outputs": [
        {
          "output_type": "stream",
          "name": "stdout",
          "text": [
            "[[81 52 58]\n",
            " [91 70 93]\n",
            " [30 18 89]]\n"
          ]
        }
      ]
    },
    {
      "cell_type": "code",
      "source": [
        "random_matrix = np.random.rand(4,3)\n",
        "print(random_matrix)"
      ],
      "metadata": {
        "colab": {
          "base_uri": "https://localhost:8080/"
        },
        "id": "jtoYlzmrAINO",
        "outputId": "6d9df1c5-5f3a-4365-aed0-9e89949a92c1"
      },
      "execution_count": 10,
      "outputs": [
        {
          "output_type": "stream",
          "name": "stdout",
          "text": [
            "[[0.80985777 0.76183679 0.91367949]\n",
            " [0.66395241 0.65414007 0.98626122]\n",
            " [0.15991921 0.38351346 0.29305786]\n",
            " [0.92959132 0.96550171 0.22907916]]\n"
          ]
        }
      ]
    },
    {
      "cell_type": "markdown",
      "source": [
        "Matrix containing values as 1"
      ],
      "metadata": {
        "id": "5ux_nrxCAkpM"
      }
    },
    {
      "cell_type": "code",
      "source": [
        "matrix= np.ones((2,3))\n",
        "print(matrix)"
      ],
      "metadata": {
        "colab": {
          "base_uri": "https://localhost:8080/"
        },
        "id": "YNCblj4xAeKU",
        "outputId": "86c91c55-efe0-4f92-f75c-642c794caf65"
      },
      "execution_count": 12,
      "outputs": [
        {
          "output_type": "stream",
          "name": "stdout",
          "text": [
            "[[1. 1. 1.]\n",
            " [1. 1. 1.]]\n"
          ]
        }
      ]
    },
    {
      "cell_type": "code",
      "source": [
        "matrix= np.ones((2,3),dtype=int)\n",
        "print(matrix)"
      ],
      "metadata": {
        "colab": {
          "base_uri": "https://localhost:8080/"
        },
        "id": "5EIcxMwgAtM_",
        "outputId": "2c133fde-8fe9-452a-eedf-5d9f59f9f3c8"
      },
      "execution_count": 13,
      "outputs": [
        {
          "output_type": "stream",
          "name": "stdout",
          "text": [
            "[[1 1 1]\n",
            " [1 1 1]]\n"
          ]
        }
      ]
    },
    {
      "cell_type": "markdown",
      "source": [
        "Null matrix"
      ],
      "metadata": {
        "id": "1MDjEHkPA91q"
      }
    },
    {
      "cell_type": "code",
      "source": [
        "matrix3 =np.zeros((4,5))\n",
        "print(matrix3)"
      ],
      "metadata": {
        "colab": {
          "base_uri": "https://localhost:8080/"
        },
        "id": "_8Yh0a_-A3Ef",
        "outputId": "c27317be-d82a-4aff-e4d0-54908a6c7e92"
      },
      "execution_count": 15,
      "outputs": [
        {
          "output_type": "stream",
          "name": "stdout",
          "text": [
            "[[0. 0. 0. 0. 0.]\n",
            " [0. 0. 0. 0. 0.]\n",
            " [0. 0. 0. 0. 0.]\n",
            " [0. 0. 0. 0. 0.]]\n"
          ]
        }
      ]
    },
    {
      "cell_type": "markdown",
      "source": [
        "Identity matrix"
      ],
      "metadata": {
        "id": "TWjhhK7KBLVs"
      }
    },
    {
      "cell_type": "code",
      "source": [
        "iden_matrix =np.eye(3,3)\n",
        "print(iden_matrix)"
      ],
      "metadata": {
        "colab": {
          "base_uri": "https://localhost:8080/"
        },
        "id": "EKa-YLs9BCvb",
        "outputId": "14b39db9-9832-4ad4-ae63-a6cd0ed5ceee"
      },
      "execution_count": 17,
      "outputs": [
        {
          "output_type": "stream",
          "name": "stdout",
          "text": [
            "[[1. 0. 0.]\n",
            " [0. 1. 0.]\n",
            " [0. 0. 1.]]\n"
          ]
        }
      ]
    },
    {
      "cell_type": "code",
      "source": [
        "iden_matrix =np.eye(6,6)\n",
        "print(iden_matrix)"
      ],
      "metadata": {
        "colab": {
          "base_uri": "https://localhost:8080/"
        },
        "id": "Yzky3kpyBTfv",
        "outputId": "5e5a5045-b2e6-4c8d-96d9-a805c988210f"
      },
      "execution_count": 18,
      "outputs": [
        {
          "output_type": "stream",
          "name": "stdout",
          "text": [
            "[[1. 0. 0. 0. 0. 0.]\n",
            " [0. 1. 0. 0. 0. 0.]\n",
            " [0. 0. 1. 0. 0. 0.]\n",
            " [0. 0. 0. 1. 0. 0.]\n",
            " [0. 0. 0. 0. 1. 0.]\n",
            " [0. 0. 0. 0. 0. 1.]]\n"
          ]
        }
      ]
    },
    {
      "cell_type": "markdown",
      "source": [
        "Transpose Matrix"
      ],
      "metadata": {
        "id": "QVlWP-KVBfKA"
      }
    },
    {
      "cell_type": "code",
      "source": [
        "rand_matrix = np.random.randint(30,size=(3,4))\n",
        "transpose_matrix = np.transpose(rand_matrix)\n",
        "print(rand_matrix)\n",
        "print(transpose_matrix)\n"
      ],
      "metadata": {
        "colab": {
          "base_uri": "https://localhost:8080/"
        },
        "id": "UvtK52HLBYbA",
        "outputId": "930acd48-59f6-48f8-e889-aebcef119c76"
      },
      "execution_count": 20,
      "outputs": [
        {
          "output_type": "stream",
          "name": "stdout",
          "text": [
            "[[ 4  6  5 26]\n",
            " [19  5  9 18]\n",
            " [ 1 20 28  1]]\n",
            "[[ 4 19  1]\n",
            " [ 6  5 20]\n",
            " [ 5  9 28]\n",
            " [26 18  1]]\n"
          ]
        }
      ]
    },
    {
      "cell_type": "code",
      "source": [],
      "metadata": {
        "id": "Kvnm-6j9Brai"
      },
      "execution_count": null,
      "outputs": []
    }
  ]
}