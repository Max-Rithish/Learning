{
  "nbformat": 4,
  "nbformat_minor": 0,
  "metadata": {
    "colab": {
      "provenance": []
    },
    "kernelspec": {
      "name": "python3",
      "display_name": "Python 3"
    },
    "language_info": {
      "name": "python"
    }
  },
  "cells": [
    {
      "cell_type": "code",
      "execution_count": 1,
      "metadata": {
        "id": "V3M9DO5JCYEm"
      },
      "outputs": [],
      "source": [
        "import numpy as np\n"
      ]
    },
    {
      "cell_type": "markdown",
      "source": [
        "Addition of matrices"
      ],
      "metadata": {
        "id": "UxpqHHP1Fd_A"
      }
    },
    {
      "cell_type": "code",
      "source": [
        "a=np.array([[2,4],[4,7]])\n",
        "b=np.array([[4,5],[6,8]])\n",
        "sum=a+b\n",
        "print(sum)"
      ],
      "metadata": {
        "colab": {
          "base_uri": "https://localhost:8080/"
        },
        "id": "LZwMVBevFdDJ",
        "outputId": "96296c77-3d43-4c48-d28f-e0895efb15b5"
      },
      "execution_count": 2,
      "outputs": [
        {
          "output_type": "stream",
          "name": "stdout",
          "text": [
            "[[ 6  9]\n",
            " [10 15]]\n"
          ]
        }
      ]
    },
    {
      "cell_type": "code",
      "source": [
        "sum.shape"
      ],
      "metadata": {
        "colab": {
          "base_uri": "https://localhost:8080/"
        },
        "id": "okIO28hPFwCM",
        "outputId": "3a922b5b-1092-46d0-bac4-4f19d376a270"
      },
      "execution_count": 3,
      "outputs": [
        {
          "output_type": "execute_result",
          "data": {
            "text/plain": [
              "(2, 2)"
            ]
          },
          "metadata": {},
          "execution_count": 3
        }
      ]
    },
    {
      "cell_type": "code",
      "source": [
        "a=np.array([[2,4],[4,7],[5,7]])\n",
        "b=np.array([[4,5],[6,8],[5,9]])\n",
        "sum=a+b\n",
        "print(sum)"
      ],
      "metadata": {
        "colab": {
          "base_uri": "https://localhost:8080/"
        },
        "id": "OZNLfd-vF2D7",
        "outputId": "e76adeb5-6793-4da9-cd8f-447d59b708a4"
      },
      "execution_count": 5,
      "outputs": [
        {
          "output_type": "stream",
          "name": "stdout",
          "text": [
            "[[ 6  9]\n",
            " [10 15]\n",
            " [10 16]]\n"
          ]
        }
      ]
    },
    {
      "cell_type": "markdown",
      "source": [
        "Subtraction of matrices"
      ],
      "metadata": {
        "id": "zqevFH0jGFlZ"
      }
    },
    {
      "cell_type": "code",
      "source": [
        "c=np.random.randint(20,size=(3,3))\n",
        "d=np.random.randint(20,size=(3,3))\n",
        "sub=c-d\n",
        "print(sub)"
      ],
      "metadata": {
        "colab": {
          "base_uri": "https://localhost:8080/"
        },
        "id": "IdUO6WwgF6-F",
        "outputId": "05c84154-7a17-419d-d25e-919c4a8b03c6"
      },
      "execution_count": 6,
      "outputs": [
        {
          "output_type": "stream",
          "name": "stdout",
          "text": [
            "[[  2  -4   8]\n",
            " [ -9   6   6]\n",
            " [ -7 -13  12]]\n"
          ]
        }
      ]
    },
    {
      "cell_type": "code",
      "source": [
        "c=np.random.randint(50,size=(5,3))\n",
        "d=np.random.randint(40,size=(5,3))\n",
        "sub=np.subtract(c,d)\n",
        "print(sub)"
      ],
      "metadata": {
        "colab": {
          "base_uri": "https://localhost:8080/"
        },
        "id": "qE5ZbsaKGVMe",
        "outputId": "430a5c63-c28d-4980-9d0c-87d04826ec46"
      },
      "execution_count": 9,
      "outputs": [
        {
          "output_type": "stream",
          "name": "stdout",
          "text": [
            "[[-10 -21 -27]\n",
            " [ 28 -14  26]\n",
            " [  3 -15  25]\n",
            " [ 48  24  23]\n",
            " [ 18  37  -1]]\n"
          ]
        }
      ]
    },
    {
      "cell_type": "markdown",
      "source": [
        "Multiplying the matrix by scaler"
      ],
      "metadata": {
        "id": "4MzHUtViG0EH"
      }
    },
    {
      "cell_type": "code",
      "source": [
        "e=np.random.randint(30,size=(4,4))\n",
        "f=3*e\n",
        "print(f)"
      ],
      "metadata": {
        "colab": {
          "base_uri": "https://localhost:8080/"
        },
        "id": "xVgUhGb0Ga9N",
        "outputId": "8a6dfecc-a8c1-49c9-aad2-55e126240dc9"
      },
      "execution_count": 10,
      "outputs": [
        {
          "output_type": "stream",
          "name": "stdout",
          "text": [
            "[[12  9 30 75]\n",
            " [33 45 54 72]\n",
            " [18  3 81 18]\n",
            " [24 33 39 36]]\n"
          ]
        }
      ]
    },
    {
      "cell_type": "code",
      "source": [
        "e=np.random.randint(30,size=(4,4))\n",
        "f=3\n",
        "prod=np.multiply(e,f)\n",
        "print(prod)"
      ],
      "metadata": {
        "colab": {
          "base_uri": "https://localhost:8080/"
        },
        "id": "QkNVUPd0HBA6",
        "outputId": "8891d2cb-9ba6-4f04-e4f0-a5c4f05bd693"
      },
      "execution_count": 12,
      "outputs": [
        {
          "output_type": "stream",
          "name": "stdout",
          "text": [
            "[[36 33 15 66]\n",
            " [ 6 75 18 48]\n",
            " [57  0  3  0]\n",
            " [12 39 51 36]]\n"
          ]
        }
      ]
    },
    {
      "cell_type": "markdown",
      "source": [
        "Multiplying the two matrices"
      ],
      "metadata": {
        "id": "dhgR7RuOHgp-"
      }
    },
    {
      "cell_type": "code",
      "source": [
        "g = np.random.randint(5,size=(3,4))\n",
        "print(g)\n",
        "f= np.random.randint(5,size=(4,2))\n",
        "print(f)\n",
        "prod=np.dot(g,f)\n",
        "print(prod)"
      ],
      "metadata": {
        "colab": {
          "base_uri": "https://localhost:8080/"
        },
        "id": "HqruBn0mHdCK",
        "outputId": "37057e11-70a8-402d-acda-4ef4c8682587"
      },
      "execution_count": 17,
      "outputs": [
        {
          "output_type": "stream",
          "name": "stdout",
          "text": [
            "[[1 3 3 3]\n",
            " [0 2 0 0]\n",
            " [1 4 1 2]]\n",
            "[[0 3]\n",
            " [3 2]\n",
            " [1 2]\n",
            " [3 4]]\n",
            "[[21 27]\n",
            " [ 6  4]\n",
            " [19 21]]\n"
          ]
        }
      ]
    },
    {
      "cell_type": "code",
      "source": [
        "prod.shape"
      ],
      "metadata": {
        "colab": {
          "base_uri": "https://localhost:8080/"
        },
        "id": "2hcRoqLHIMFy",
        "outputId": "536c6b83-7597-482f-91b7-5d69087e68a3"
      },
      "execution_count": 15,
      "outputs": [
        {
          "output_type": "execute_result",
          "data": {
            "text/plain": [
              "(4, 2)"
            ]
          },
          "metadata": {},
          "execution_count": 15
        }
      ]
    },
    {
      "cell_type": "markdown",
      "source": [
        "Element wise multiplication\n"
      ],
      "metadata": {
        "id": "7jqhWHYcKzYo"
      }
    },
    {
      "cell_type": "code",
      "source": [
        "g = np.random.randint(5,size=(3,4))\n",
        "print(g)\n",
        "f= np.random.randint(5,size=(4,2))\n",
        "print(f)\n",
        "prod=np.multiply(g,f)\n",
        "print(prod)"
      ],
      "metadata": {
        "colab": {
          "base_uri": "https://localhost:8080/",
          "height": 349
        },
        "id": "UZ24wasnIUyj",
        "outputId": "a3d4e3d5-c8fe-4c64-b606-6ffc1913ad83"
      },
      "execution_count": 19,
      "outputs": [
        {
          "output_type": "stream",
          "name": "stdout",
          "text": [
            "[[3 3 4 0]\n",
            " [2 1 4 1]\n",
            " [4 1 4 4]]\n",
            "[[4 2]\n",
            " [3 4]\n",
            " [1 2]\n",
            " [0 4]]\n"
          ]
        },
        {
          "output_type": "error",
          "ename": "ValueError",
          "evalue": "ignored",
          "traceback": [
            "\u001b[0;31m---------------------------------------------------------------------------\u001b[0m",
            "\u001b[0;31mValueError\u001b[0m                                Traceback (most recent call last)",
            "\u001b[0;32m<ipython-input-19-af1136e3e29a>\u001b[0m in \u001b[0;36m<cell line: 5>\u001b[0;34m()\u001b[0m\n\u001b[1;32m      3\u001b[0m \u001b[0mf\u001b[0m\u001b[0;34m=\u001b[0m \u001b[0mnp\u001b[0m\u001b[0;34m.\u001b[0m\u001b[0mrandom\u001b[0m\u001b[0;34m.\u001b[0m\u001b[0mrandint\u001b[0m\u001b[0;34m(\u001b[0m\u001b[0;36m5\u001b[0m\u001b[0;34m,\u001b[0m\u001b[0msize\u001b[0m\u001b[0;34m=\u001b[0m\u001b[0;34m(\u001b[0m\u001b[0;36m4\u001b[0m\u001b[0;34m,\u001b[0m\u001b[0;36m2\u001b[0m\u001b[0;34m)\u001b[0m\u001b[0;34m)\u001b[0m\u001b[0;34m\u001b[0m\u001b[0;34m\u001b[0m\u001b[0m\n\u001b[1;32m      4\u001b[0m \u001b[0mprint\u001b[0m\u001b[0;34m(\u001b[0m\u001b[0mf\u001b[0m\u001b[0;34m)\u001b[0m\u001b[0;34m\u001b[0m\u001b[0;34m\u001b[0m\u001b[0m\n\u001b[0;32m----> 5\u001b[0;31m \u001b[0mprod\u001b[0m\u001b[0;34m=\u001b[0m\u001b[0mnp\u001b[0m\u001b[0;34m.\u001b[0m\u001b[0mmultiply\u001b[0m\u001b[0;34m(\u001b[0m\u001b[0mg\u001b[0m\u001b[0;34m,\u001b[0m\u001b[0mf\u001b[0m\u001b[0;34m)\u001b[0m\u001b[0;34m\u001b[0m\u001b[0;34m\u001b[0m\u001b[0m\n\u001b[0m\u001b[1;32m      6\u001b[0m \u001b[0mprint\u001b[0m\u001b[0;34m(\u001b[0m\u001b[0mprod\u001b[0m\u001b[0;34m)\u001b[0m\u001b[0;34m\u001b[0m\u001b[0;34m\u001b[0m\u001b[0m\n",
            "\u001b[0;31mValueError\u001b[0m: operands could not be broadcast together with shapes (3,4) (4,2) "
          ]
        }
      ]
    },
    {
      "cell_type": "code",
      "source": [
        "g = np.random.randint(5,size=(3,4))\n",
        "print(g)\n",
        "f= np.random.randint(5,size=(3,4))\n",
        "print(f)\n",
        "prod=np.multiply(g,f)\n",
        "print(prod)"
      ],
      "metadata": {
        "colab": {
          "base_uri": "https://localhost:8080/"
        },
        "id": "RJYQQ0A1KyDK",
        "outputId": "c0ad588b-87b1-4071-e596-cb98fbad0869"
      },
      "execution_count": 20,
      "outputs": [
        {
          "output_type": "stream",
          "name": "stdout",
          "text": [
            "[[4 4 1 1]\n",
            " [3 4 2 3]\n",
            " [0 2 3 4]]\n",
            "[[2 3 0 2]\n",
            " [2 1 4 3]\n",
            " [1 4 3 0]]\n",
            "[[ 8 12  0  2]\n",
            " [ 6  4  8  9]\n",
            " [ 0  8  9  0]]\n"
          ]
        }
      ]
    },
    {
      "cell_type": "code",
      "source": [],
      "metadata": {
        "id": "02dylXxTK8u4"
      },
      "execution_count": null,
      "outputs": []
    }
  ]
}